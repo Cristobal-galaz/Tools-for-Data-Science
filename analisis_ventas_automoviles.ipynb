
{
 "cells": [
  {
   "cell_type": "markdown",
   "metadata": {},
   "source": [
    "# Análisis de Ventas Históricas de Automóviles\n",
    "## Parte 1: Visualización de Datos y Parte 2: Aplicación Dash"
   ]
  },
  {
   "cell_type": "code",
   "execution_count": null,
   "metadata": {},
   "outputs": [],
   "source": [
    "# Parte 1: Visualización con Pandas, Matplotlib y Seaborn\n",
    "import pandas as pd\n",
    "import matplotlib.pyplot as plt\n",
    "import seaborn as sns\n",
    "%matplotlib inline\n",
    "sns.set(style=\"whitegrid\")\n",
    "plt.rcParams[\"figure.figsize\"] = (12, 6)\n",
    "\n",
    "url = \"https://cf-courses-data.s3.us.cloud-object-storage.appdomain.cloud/IBMDeveloperSkillsNetwork-DV0101EN-SkillsNetwork/Data%20Files/historical_automobile_sales.csv\"\n",
    "df = pd.read_csv(url)\n",
    "df['Date'] = pd.to_datetime(df['Date'])\n",
    "df['Year'] = df['Date'].dt.year\n",
    "recession_df = df[df['Recession'] == True]\n",
    "non_recession_df = df[df['Recession'] == False]"
   ]
  },
  {
   "cell_type": "code",
   "execution_count": null,
   "metadata": {},
   "outputs": [],
   "source": [
    "# 1.1 Gráfico de líneas\n",
    "df.groupby('Year')['Automobile_Sales'].sum().plot(title='Ventas por Año')\n",
    "plt.ylabel('Ventas (millones)')\n",
    "plt.show()"
   ]
  },
  {
   "cell_type": "code",
   "execution_count": null,
   "metadata": {},
   "outputs": [],
   "source": [
    "# 1.2 Línea por tipo\n",
    "df.groupby(['Year', 'Vehicle_Type'])['Automobile_Sales'].sum().unstack().plot()\n",
    "plt.title('Ventas por tipo de vehículo')\n",
    "plt.ylabel('Ventas')\n",
    "plt.show()"
   ]
  },
  {
   "cell_type": "code",
   "execution_count": null,
   "metadata": {},
   "outputs": [],
   "source": [
    "# 1.3 Seaborn recesión vs no recesión\n",
    "sns.lineplot(data=df, x='Year', y='Automobile_Sales', hue='Vehicle_Type', style='Recession')\n",
    "plt.title('Ventas por tipo de vehículo durante recesión')\n",
    "plt.show()"
   ]
  },
  {
   "cell_type": "code",
   "execution_count": null,
   "metadata": {},
   "outputs": [],
   "source": [
    "# 1.4 PIB en recesión y no recesión\n",
    "fig, axs = plt.subplots(1, 2, figsize=(16, 6))\n",
    "recession_df.groupby('Year')['GDP'].mean().plot(ax=axs[0], title=\"PIB durante recesión\")\n",
    "non_recession_df.groupby('Year')['GDP'].mean().plot(ax=axs[1], title=\"PIB sin recesión\")\n",
    "plt.show()"
   ]
  },
  {
   "cell_type": "code",
   "execution_count": null,
   "metadata": {},
   "outputs": [],
   "source": [
    "# 1.5 Gráfico de burbujas\n",
    "df['Month'] = df['Date'].dt.month\n",
    "monthly_sales = df.groupby(['Month', 'Year'])['Automobile_Sales'].sum().reset_index()\n",
    "plt.scatter(monthly_sales['Month'], monthly_sales['Year'], s=monthly_sales['Automobile_Sales']*10, alpha=0.5)\n",
    "plt.title(\"Estacionalidad en ventas\")\n",
    "plt.xlabel(\"Mes\")\n",
    "plt.ylabel(\"Año\")\n",
    "plt.show()"
   ]
  },
  {
   "cell_type": "code",
   "execution_count": null,
   "metadata": {},
   "outputs": [],
   "source": [
    "# 1.6 Dispersión precio vs ventas\n",
    "plt.scatter(recession_df['Vehicle_Price'], recession_df['Automobile_Sales'], alpha=0.6)\n",
    "plt.title(\"Precio vs Ventas durante recesión\")\n",
    "plt.xlabel(\"Precio medio\")\n",
    "plt.ylabel(\"Ventas\")\n",
    "plt.show()"
   ]
  },
  {
   "cell_type": "code",
   "execution_count": null,
   "metadata": {},
   "outputs": [],
   "source": [
    "# 1.7 Circular gasto publicidad\n",
    "ad_expenses = df.groupby('Recession')['Advertising_Expenditure'].sum()\n",
    "ad_expenses.plot.pie(autopct='%1.1f%%', labels=['No Recesión', 'Recesión'], title=\"Gasto publicitario por recesión\")\n",
    "plt.ylabel('')\n",
    "plt.show()"
   ]
  },
  {
   "cell_type": "code",
   "execution_count": null,
   "metadata": {},
   "outputs": [],
   "source": [
    "# 1.8 Circular por tipo durante recesión\n",
    "rec_ad_by_type = recession_df.groupby('Vehicle_Type')['Advertising_Expenditure'].sum()\n",
    "rec_ad_by_type.plot.pie(autopct='%1.1f%%', title=\"Publicidad por tipo en recesión\")\n",
    "plt.ylabel('')\n",
    "plt.show()"
   ]
  },
  {
   "cell_type": "code",
   "execution_count": null,
   "metadata": {},
   "outputs": [],
   "source": [
    "# 1.9 Línea ventas y desempleo\n",
    "pivot = recession_df.pivot_table(index='Date', columns='Vehicle_Type', values='Automobile_Sales', aggfunc='sum')\n",
    "pivot.plot()\n",
    "plt.ylabel(\"Ventas\")\n",
    "plt.title(\"Ventas por tipo vs desempleo durante recesión\")\n",
    "plt.twinx()\n",
    "plt.plot(recession_df['Date'], recession_df['Unemployment_Rate'], color='black', alpha=0.4, label=\"Desempleo\")\n",
    "plt.legend()\n",
    "plt.show()"
   ]
  },
  {
   "cell_type": "markdown",
   "metadata": {},
   "source": [
    "## Parte 2: Dash"
   ]
  },
  {
   "cell_type": "code",
   "execution_count": null,
   "metadata": {},
   "outputs": [],
   "source": [
    "!pip install dash"
   ]
  },
  {
   "cell_type": "code",
   "execution_count": null,
   "metadata": {},
   "outputs": [],
   "source": [
    "import dash\n",
    "from dash import dcc, html, Input, Output\n",
    "import plotly.express as px\n",
    "\n",
    "app = dash.Dash(__name__)\n",
    "app.title = \"Análisis de Ventas Automotrices\"\n",
    "\n",
    "app.layout = html.Div(children=[\n",
    "    html.H1(\"Panel de Ventas de Automóviles\"),\n",
    "    \n",
    "    dcc.Dropdown(\n",
    "        id='tipo_vehiculo',\n",
    "        options=[{'label': i, 'value': i} for i in df['Vehicle_Type'].unique()],\n",
    "        value='Passenger Car',\n",
    "        placeholder=\"Seleccione tipo de vehículo\"\n",
    "    ),\n",
    "\n",
    "    html.Div(id='output-div', className='output-container'),\n",
    "    dcc.Graph(id='ventas-vehiculo'),\n",
    "    dcc.Graph(id='ventas-anuales')\n",
    "])\n",
    "\n",
    "@app.callback(\n",
    "    Output('ventas-vehiculo', 'figure'),\n",
    "    Output('ventas-anuales', 'figure'),\n",
    "    Input('tipo_vehiculo', 'value')\n",
    ")\n",
    "def update_output(vehicle_type):\n",
    "    df_filtered = df[df['Vehicle_Type'] == vehicle_type]\n",
    "    fig1 = px.line(df_filtered, x='Date', y='Automobile_Sales', title=f\"Ventas de {vehicle_type} en el tiempo\")\n",
    "    fig2 = px.bar(df_filtered.groupby('Year')['Automobile_Sales'].sum().reset_index(), x='Year', y='Automobile_Sales', title=f\"Ventas anuales de {vehicle_type}\")\n",
    "    return fig1, fig2\n",
    "\n",
    "if __name__ == '__main__':\n",
    "    app.run_server(debug=False)"
   ]
  }
 ],
 "metadata": {
  "kernelspec": {
   "display_name": "Python 3",
   "language": "python",
   "name": "python3"
  },
  "language_info": {
   "name": "python",
   "version": ""
  }
 },
 "nbformat": 4,
 "nbformat_minor": 4
}
