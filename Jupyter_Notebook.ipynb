{
 "cells": [
  {
   "cell_type": "markdown",
   "metadata": {},
   "source": [
    "<center>\n",
    "    <img src=\"https://cf-courses-data.s3.us.cloud-object-storage.appdomain.cloud/IBMDeveloperSkillsNetwork-DS0105EN-SkillsNetwork/labs/Module2/images/SN_web_lightmode.png\" width=\"300\" alt=\"cognitiveclass.ai logo\">\n",
    "</center>\n"
   ]
  },
  {
   "cell_type": "markdown",
   "metadata": {},
   "source": [
    "#### Add your code below following the instructions given in the course\n"
   ]
  },
  {
   "cell_type": "markdown",
   "metadata": {},
   "source": [
    "Create a markdown cell with the title of the notebook."
   ]
  },
  {
   "cell_type": "markdown",
   "metadata": {},
   "source": [
    "# Introduction to Tools for data science"
   ]
  },
  {
   "cell_type": "markdown",
   "metadata": {},
   "source": [
    " Create a markdown cell for an introduction."
   ]
  },
  {
   "cell_type": "markdown",
   "metadata": {},
   "source": [
    "\n",
    "Data science is an interdisciplinary field that uses scientific methods, processes, algorithms, and systems\n",
    "to extract knowledge and insights from structured and unstructured data. Python has become one of the most popular\n",
    "languages for data science due to its simplicity, versatility, and the extensive ecosystem of specialized libraries.\n",
    "This notebook presents a basic introduction to the fundamental tools and concepts of data science using Python."
   ]
  },
  {
   "cell_type": "markdown",
   "metadata": {},
   "source": [
    "Create a markdown cell to list data science languages"
   ]
  },
  {
   "cell_type": "markdown",
   "metadata": {},
   "source": [
    "\n",
    "1. **Python**: Versatile language with a wide ecosystem of libraries like Pandas, NumPy, and Scikit-learn.\n",
    "2. **R**: Specialized in statistical analysis and data visualization.\n",
    "3. **SQL**: Fundamental for database management and querying.\n",
    "4. **Julia**: High-performance language for scientific and numerical computing.\n",
    "5. **Scala**: Used in big data processing with Apache Spark."
   ]
  },
  {
   "cell_type": "markdown",
   "metadata": {},
   "source": [
    " Create a markdown cell to list data science libraries."
   ]
  },
  {
   "cell_type": "markdown",
   "metadata": {},
   "source": [
    "\n",
    "1. **NumPy**: Provides support for multi-dimensional arrays and matrices, along with high-level mathematical functions.\n",
    "2. **Pandas**: Offers flexible data structures for manipulating and analyzing structured data.\n",
    "3. **Matplotlib**: Library for creating static and interactive visualizations.\n",
    "4. **Scikit-learn**: Includes machine learning algorithms for classification, regression, clustering, and more.\n",
    "5. **TensorFlow/PyTorch**: Frameworks for developing deep learning models.\n",
    "6. **Seaborn**: Based on Matplotlib, facilitates the creation of attractive statistical visualizations.\n",
    "7. **Statsmodels**: Provides classes and functions for statistical model estimation and testing."
   ]
  },
  {
   "cell_type": "markdown",
   "metadata": {},
   "source": [
    " Create a markdown cell with a table of Data Science tools."
   ]
  },
  {
   "cell_type": "markdown",
   "metadata": {},
   "source": [
    "\n",
    "| Tool | Type | Main Use |\n",
    "|-------------|------|---------------|\n",
    "| Jupyter Notebook | Development Environment | Interactive development and documentation |\n",
    "| Anaconda | Distribution | Package and environment management |\n",
    "| Git | Version Control | Code change tracking |\n",
    "| Docker | Containers | Reproducible environments |\n",
    "| Apache Spark | Processing | Big data analysis |\n",
    "| Tableau | Visualization | Interactive dashboards |\n",
    "| PostgreSQL | Database | Data storage and querying |\n",
    "| VS Code | Code Editor | Application development |"
   ]
  },
  {
   "cell_type": "markdown",
   "metadata": {},
   "source": [
    " Create a markdown cell introducing arithmetic expression examples."
   ]
  },
  {
   "cell_type": "markdown",
   "metadata": {},
   "source": [
    "- **Addition**: `2 + 3 = 5`\n",
    "- **Subtraction**: `10 - 4 = 6`\n",
    "- **Multiplication**: `5 * 6 = 30`\n",
    "- **Division**: `20 / 5 = 4.0`\n"
   ]
  },
  {
   "cell_type": "markdown",
   "metadata": {},
   "source": [
    "Create a code cell to multiply and add numbers."
   ]
  },
  {
   "cell_type": "code",
   "execution_count": 4,
   "metadata": {},
   "outputs": [
    {
     "name": "stdout",
     "output_type": "stream",
     "text": [
      "The product  is: 25\n",
      "The sum  is: 17\n",
      "The result  is: 42\n"
     ]
    }
   ],
   "source": [
    "product = (5 * 5)\n",
    "print(f\"The product  is: {product}\")\n",
    "sum_result = (10 + 7)\n",
    "print(f\"The sum  is: {sum_result}\")\n",
    "result = (4 * 6) + (9 * 2)\n",
    "print(f\"The result  is: {result}\")"
   ]
  },
  {
   "cell_type": "code",
   "execution_count": null,
   "metadata": {},
   "outputs": [],
   "source": []
  },
  {
   "cell_type": "code",
   "execution_count": 5,
   "metadata": {},
   "outputs": [
    {
     "name": "stdout",
     "output_type": "stream",
     "text": [
      "90 minutes equals 1 hours and 30 minutes\n",
      "200 minutes equals 3 hours and 20 minutes\n",
      "323 minutes equals 5 hours and 23 minutes\n",
      "45 minutes equals 0 hours and 45 minutes\n"
     ]
    }
   ],
   "source": [
    "def minutes_to_hours(minutes):\n",
    "    hours = minutes // 60\n",
    "    remaining_mins = minutes % 60\n",
    "    return hours, remaining_mins\n",
    "\n",
    "example_minutes = [90, 200, 323, 45]\n",
    "\n",
    "for minutes in example_minutes:\n",
    "    hours, mins = minutes_to_hours(minutes)\n",
    "    print(f\"{minutes} minutes equals {hours} hours and {mins} minutes\")"
   ]
  },
  {
   "cell_type": "markdown",
   "metadata": {},
   "source": [
    "objectives = [\n",
    "    \"Learn basic Python concepts for data science\",\n",
    "    \"Master data manipulation with Pandas\",\n",
    "    \"Create effective visualizations with Matplotlib and Seaborn\",\n",
    "    \"Implement basic machine learning models\",\n",
    "    \"Develop a complete data analysis project\"\n",
    "]\n",
    "\n",
    "print(\"Data Science Course Objectives:\")\n",
    "for i, objective in enumerate(objectives, 1):\n",
    "    print(f\"{i}. {objective}\")"
   ]
  },
  {
   "cell_type": "markdown",
   "metadata": {},
   "source": [
    "#\n",
    "\n",
    "Name = \"Cristobal_Galaz\"\n",
    "date = \"December 13, 1999\"\n",
    "Email =\"c.galazbrito@uandresbello.edu\"\n",
    "\n",
    "print (Name, date, Email)"
   ]
  },
  {
   "cell_type": "code",
   "execution_count": null,
   "metadata": {},
   "outputs": [],
   "source": []
  }
 ],
 "metadata": {
  "kernelspec": {
   "display_name": "Python 3 (ipykernel)",
   "language": "python",
   "name": "python3"
  },
  "language_info": {
   "codemirror_mode": {
    "name": "ipython",
    "version": 3
   },
   "file_extension": ".py",
   "mimetype": "text/x-python",
   "name": "python",
   "nbconvert_exporter": "python",
   "pygments_lexer": "ipython3",
   "version": "3.12.8"
  }
 },
 "nbformat": 4,
 "nbformat_minor": 4
}
